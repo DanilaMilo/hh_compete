{
  "cells": [
    {
      "cell_type": "code",
      "source": [
        "import pandas as pd\n",
        "import numpy as np\n",
        "import matplotlib.pyplot as plt\n",
        "import seaborn as sns"
      ],
      "metadata": {
        "id": "o_TSiJtiklXY"
      },
      "execution_count": 5,
      "outputs": []
    },
    {
      "cell_type": "code",
      "source": [
        "df = pd.read_csv('HeadHunter_train.csv')"
      ],
      "metadata": {
        "id": "YydvQf9oklVo"
      },
      "execution_count": 3,
      "outputs": []
    },
    {
      "cell_type": "code",
      "source": [
        "df.head()"
      ],
      "metadata": {
        "colab": {
          "base_uri": "https://localhost:8080/",
          "height": 591
        },
        "id": "1cdSeUZSklUB",
        "outputId": "ce24e393-da7d-4637-fc74-b76436a64da5"
      },
      "execution_count": 4,
      "outputs": [
        {
          "output_type": "execute_result",
          "data": {
            "text/html": [
              "\n",
              "  <div id=\"df-18db46e3-4f5a-46a6-9129-d1fb63e04089\">\n",
              "    <div class=\"colab-df-container\">\n",
              "      <div>\n",
              "<style scoped>\n",
              "    .dataframe tbody tr th:only-of-type {\n",
              "        vertical-align: middle;\n",
              "    }\n",
              "\n",
              "    .dataframe tbody tr th {\n",
              "        vertical-align: top;\n",
              "    }\n",
              "\n",
              "    .dataframe thead th {\n",
              "        text-align: right;\n",
              "    }\n",
              "</style>\n",
              "<table border=\"1\" class=\"dataframe\">\n",
              "  <thead>\n",
              "    <tr style=\"text-align: right;\">\n",
              "      <th></th>\n",
              "      <th>review_id</th>\n",
              "      <th>city</th>\n",
              "      <th>position</th>\n",
              "      <th>positive</th>\n",
              "      <th>negative</th>\n",
              "      <th>salary_rating</th>\n",
              "      <th>team_rating</th>\n",
              "      <th>managment_rating</th>\n",
              "      <th>career_rating</th>\n",
              "      <th>workplace_rating</th>\n",
              "      <th>rest_recovery_rating</th>\n",
              "      <th>target</th>\n",
              "    </tr>\n",
              "  </thead>\n",
              "  <tbody>\n",
              "    <tr>\n",
              "      <th>0</th>\n",
              "      <td>0</td>\n",
              "      <td>Ижевск</td>\n",
              "      <td>Кладовщик</td>\n",
              "      <td>Недавно устроился в ****** на должность кладов...</td>\n",
              "      <td>Повысить з/п</td>\n",
              "      <td>5</td>\n",
              "      <td>4</td>\n",
              "      <td>3</td>\n",
              "      <td>3</td>\n",
              "      <td>4</td>\n",
              "      <td>4</td>\n",
              "      <td>0</td>\n",
              "    </tr>\n",
              "    <tr>\n",
              "      <th>1</th>\n",
              "      <td>1</td>\n",
              "      <td>Москва</td>\n",
              "      <td>Руководитель проекта</td>\n",
              "      <td>Расположение офиса, своего рода стабильность (...</td>\n",
              "      <td>Упростить процессы - все процессы ради процесс...</td>\n",
              "      <td>4</td>\n",
              "      <td>4</td>\n",
              "      <td>4</td>\n",
              "      <td>1</td>\n",
              "      <td>1</td>\n",
              "      <td>1</td>\n",
              "      <td>8</td>\n",
              "    </tr>\n",
              "    <tr>\n",
              "      <th>2</th>\n",
              "      <td>2</td>\n",
              "      <td>Екатеринбург</td>\n",
              "      <td>Консультант</td>\n",
              "      <td>В нашем банке все по закону в плане зарплаты и...</td>\n",
              "      <td>Ничего</td>\n",
              "      <td>5</td>\n",
              "      <td>5</td>\n",
              "      <td>5</td>\n",
              "      <td>5</td>\n",
              "      <td>5</td>\n",
              "      <td>5</td>\n",
              "      <td>0</td>\n",
              "    </tr>\n",
              "    <tr>\n",
              "      <th>3</th>\n",
              "      <td>5</td>\n",
              "      <td>Санкт-Петербург</td>\n",
              "      <td>Оператор</td>\n",
              "      <td>Я в ****** около года работаю оператором. Норм...</td>\n",
              "      <td>Нет.</td>\n",
              "      <td>5</td>\n",
              "      <td>5</td>\n",
              "      <td>5</td>\n",
              "      <td>5</td>\n",
              "      <td>5</td>\n",
              "      <td>5</td>\n",
              "      <td>0</td>\n",
              "    </tr>\n",
              "    <tr>\n",
              "      <th>4</th>\n",
              "      <td>7</td>\n",
              "      <td>Москва</td>\n",
              "      <td>Инженер КИПиА</td>\n",
              "      <td>В принципе норм.Работать можно</td>\n",
              "      <td>Всегда есть к чему стремиться</td>\n",
              "      <td>4</td>\n",
              "      <td>5</td>\n",
              "      <td>4</td>\n",
              "      <td>2</td>\n",
              "      <td>5</td>\n",
              "      <td>2</td>\n",
              "      <td>8</td>\n",
              "    </tr>\n",
              "  </tbody>\n",
              "</table>\n",
              "</div>\n",
              "      <button class=\"colab-df-convert\" onclick=\"convertToInteractive('df-18db46e3-4f5a-46a6-9129-d1fb63e04089')\"\n",
              "              title=\"Convert this dataframe to an interactive table.\"\n",
              "              style=\"display:none;\">\n",
              "        \n",
              "  <svg xmlns=\"http://www.w3.org/2000/svg\" height=\"24px\"viewBox=\"0 0 24 24\"\n",
              "       width=\"24px\">\n",
              "    <path d=\"M0 0h24v24H0V0z\" fill=\"none\"/>\n",
              "    <path d=\"M18.56 5.44l.94 2.06.94-2.06 2.06-.94-2.06-.94-.94-2.06-.94 2.06-2.06.94zm-11 1L8.5 8.5l.94-2.06 2.06-.94-2.06-.94L8.5 2.5l-.94 2.06-2.06.94zm10 10l.94 2.06.94-2.06 2.06-.94-2.06-.94-.94-2.06-.94 2.06-2.06.94z\"/><path d=\"M17.41 7.96l-1.37-1.37c-.4-.4-.92-.59-1.43-.59-.52 0-1.04.2-1.43.59L10.3 9.45l-7.72 7.72c-.78.78-.78 2.05 0 2.83L4 21.41c.39.39.9.59 1.41.59.51 0 1.02-.2 1.41-.59l7.78-7.78 2.81-2.81c.8-.78.8-2.07 0-2.86zM5.41 20L4 18.59l7.72-7.72 1.47 1.35L5.41 20z\"/>\n",
              "  </svg>\n",
              "      </button>\n",
              "      \n",
              "  <style>\n",
              "    .colab-df-container {\n",
              "      display:flex;\n",
              "      flex-wrap:wrap;\n",
              "      gap: 12px;\n",
              "    }\n",
              "\n",
              "    .colab-df-convert {\n",
              "      background-color: #E8F0FE;\n",
              "      border: none;\n",
              "      border-radius: 50%;\n",
              "      cursor: pointer;\n",
              "      display: none;\n",
              "      fill: #1967D2;\n",
              "      height: 32px;\n",
              "      padding: 0 0 0 0;\n",
              "      width: 32px;\n",
              "    }\n",
              "\n",
              "    .colab-df-convert:hover {\n",
              "      background-color: #E2EBFA;\n",
              "      box-shadow: 0px 1px 2px rgba(60, 64, 67, 0.3), 0px 1px 3px 1px rgba(60, 64, 67, 0.15);\n",
              "      fill: #174EA6;\n",
              "    }\n",
              "\n",
              "    [theme=dark] .colab-df-convert {\n",
              "      background-color: #3B4455;\n",
              "      fill: #D2E3FC;\n",
              "    }\n",
              "\n",
              "    [theme=dark] .colab-df-convert:hover {\n",
              "      background-color: #434B5C;\n",
              "      box-shadow: 0px 1px 3px 1px rgba(0, 0, 0, 0.15);\n",
              "      filter: drop-shadow(0px 1px 2px rgba(0, 0, 0, 0.3));\n",
              "      fill: #FFFFFF;\n",
              "    }\n",
              "  </style>\n",
              "\n",
              "      <script>\n",
              "        const buttonEl =\n",
              "          document.querySelector('#df-18db46e3-4f5a-46a6-9129-d1fb63e04089 button.colab-df-convert');\n",
              "        buttonEl.style.display =\n",
              "          google.colab.kernel.accessAllowed ? 'block' : 'none';\n",
              "\n",
              "        async function convertToInteractive(key) {\n",
              "          const element = document.querySelector('#df-18db46e3-4f5a-46a6-9129-d1fb63e04089');\n",
              "          const dataTable =\n",
              "            await google.colab.kernel.invokeFunction('convertToInteractive',\n",
              "                                                     [key], {});\n",
              "          if (!dataTable) return;\n",
              "\n",
              "          const docLinkHtml = 'Like what you see? Visit the ' +\n",
              "            '<a target=\"_blank\" href=https://colab.research.google.com/notebooks/data_table.ipynb>data table notebook</a>'\n",
              "            + ' to learn more about interactive tables.';\n",
              "          element.innerHTML = '';\n",
              "          dataTable['output_type'] = 'display_data';\n",
              "          await google.colab.output.renderOutput(dataTable, element);\n",
              "          const docLink = document.createElement('div');\n",
              "          docLink.innerHTML = docLinkHtml;\n",
              "          element.appendChild(docLink);\n",
              "        }\n",
              "      </script>\n",
              "    </div>\n",
              "  </div>\n",
              "  "
            ],
            "text/plain": [
              "   review_id             city  ... rest_recovery_rating target\n",
              "0          0           Ижевск  ...                    4      0\n",
              "1          1           Москва  ...                    1      8\n",
              "2          2     Екатеринбург  ...                    5      0\n",
              "3          5  Санкт-Петербург  ...                    5      0\n",
              "4          7           Москва  ...                    2      8\n",
              "\n",
              "[5 rows x 12 columns]"
            ]
          },
          "metadata": {},
          "execution_count": 4
        }
      ]
    },
    {
      "cell_type": "code",
      "source": [
        "df.fillna(value={'positive':'Ничего','negative':'Ничего','position':'','city':''}, inplace = True)"
      ],
      "metadata": {
        "id": "yrpiNm4r6JzQ"
      },
      "execution_count": 6,
      "outputs": []
    },
    {
      "cell_type": "code",
      "source": [
        "positive_by_target = {}\n",
        "negative_by_target = {}\n",
        "for _,row in df.iterrows():\n",
        "  t = row.target.split(',')\n",
        "  for target in t:\n",
        "    if target not in positive_by_target:\n",
        "      positive_by_target[target] = []\n",
        "    positive_by_target[target].append(row.positive)\n",
        "    if target not in negative_by_target:\n",
        "      negative_by_target[target] = []\n",
        "    negative_by_target[target].append(row.negative)"
      ],
      "metadata": {
        "id": "mg6LJYRSklSm"
      },
      "execution_count": 7,
      "outputs": []
    },
    {
      "cell_type": "code",
      "source": [
        "len_positive_by_target = {}\n",
        "len_negative_by_target = {}\n",
        "for target in positive_by_target:\n",
        "  for text in positive_by_target[target]:\n",
        "    if target not in len_positive_by_target:\n",
        "      len_positive_by_target[target] = []\n",
        "    len_positive_by_target[target].append(len(text))\n",
        "  for text in negative_by_target[target]:\n",
        "    if target not in len_negative_by_target:\n",
        "      len_negative_by_target[target] = []\n",
        "    len_negative_by_target[target].append(len(text))"
      ],
      "metadata": {
        "id": "u-oHxf1ZklQ2"
      },
      "execution_count": 8,
      "outputs": []
    },
    {
      "cell_type": "code",
      "source": [
        "binwidth = 4\n",
        "for target in len_positive_by_target:\n",
        "    print(f\"Positive reviews with target {target}: среднее - {np.average(len_positive_by_target[target])}, \\\n",
        "Стандартное отклонение - {np.std(len_positive_by_target[target])}, Число записей - {len(len_positive_by_target[target])}\")\n",
        "    print(f\"Negative reviews with target {target}: среднее - {np.average(len_negative_by_target[target])}, \\\n",
        "Стандартное отклонение - {np.std(len_negative_by_target[target])} Число записей - {len(len_negative_by_target[target])}\")"
      ],
      "metadata": {
        "colab": {
          "base_uri": "https://localhost:8080/"
        },
        "id": "xCGiNxldklO7",
        "outputId": "a15e6c8b-2fe2-4d39-ab67-6d0d83e77f0f"
      },
      "execution_count": 9,
      "outputs": [
        {
          "output_type": "stream",
          "name": "stdout",
          "text": [
            "Positive reviews with target 0: среднее - 245.46436223396657, Стандартное отклонение - 224.4335089652223, Число записей - 21003\n",
            "Negative reviews with target 0: среднее - 89.81497881255059, Стандартное отклонение - 127.71236723897296 Число записей - 21003\n",
            "Positive reviews with target 8: среднее - 49.72469284691339, Стандартное отклонение - 70.36277762360882, Число записей - 26534\n",
            "Negative reviews with target 8: среднее - 70.09429411321324, Стандартное отклонение - 118.57758390095778 Число записей - 26534\n",
            "Positive reviews with target 7: среднее - 183.3631713554987, Стандартное отклонение - 287.40621701645966, Число записей - 391\n",
            "Negative reviews with target 7: среднее - 192.2531969309463, Стандартное отклонение - 274.3364090001159 Число записей - 391\n",
            "Positive reviews with target 1: среднее - 109.09752967597048, Стандартное отклонение - 159.13384655685374, Число записей - 3117\n",
            "Negative reviews with target 1: среднее - 192.93262752646777, Стандартное отклонение - 300.49042997864706 Число записей - 3117\n",
            "Positive reviews with target 3: среднее - 64.99912203687445, Стандартное отклонение - 209.04202038213552, Число записей - 1139\n",
            "Negative reviews with target 3: среднее - 66.64442493415277, Стандартное отклонение - 231.32325950527766 Число записей - 1139\n",
            "Positive reviews with target 6: среднее - 129.8493919550982, Стандартное отклонение - 238.10739720246028, Число записей - 1069\n",
            "Negative reviews with target 6: среднее - 287.73058933582786, Стандартное отклонение - 374.0336728283631 Число записей - 1069\n",
            "Positive reviews with target 4: среднее - 142.23423423423424, Стандартное отклонение - 218.239184223915, Число записей - 111\n",
            "Negative reviews with target 4: среднее - 274.5405405405405, Стандартное отклонение - 445.54915571490693 Число записей - 111\n",
            "Positive reviews with target 5: среднее - 162.3244680851064, Стандартное отклонение - 204.57401521010715, Число записей - 376\n",
            "Negative reviews with target 5: среднее - 246.80585106382978, Стандартное отклонение - 428.4998846393985 Число записей - 376\n",
            "Positive reviews with target 2: среднее - 326.2307692307692, Стандартное отклонение - 272.13943084838917, Число записей - 13\n",
            "Negative reviews with target 2: среднее - 137.07692307692307, Стандартное отклонение - 94.12795018440144 Число записей - 13\n"
          ]
        }
      ]
    },
    {
      "cell_type": "markdown",
      "source": [
        "# Вручную изучим отзывы, которые были отклонены, и попробуем понять что означают target"
      ],
      "metadata": {
        "id": "9VYWPERK-_b2"
      }
    },
    {
      "cell_type": "markdown",
      "source": [
        "## Target - 2 Непонятно; будто несоответствие между отзывом и оценками"
      ],
      "metadata": {
        "id": "cSHgv3Kq_t7d"
      }
    },
    {
      "cell_type": "code",
      "source": [
        "for i, item in enumerate(positive_by_target['2']):\n",
        "  if i < 100:\n",
        "    print(str(i) + '  ' + item)\n",
        "    print('\\n')"
      ],
      "metadata": {
        "id": "v6qCWs1WUELJ"
      },
      "execution_count": null,
      "outputs": []
    },
    {
      "cell_type": "code",
      "source": [
        "for i, item in enumerate(negative_by_target['2']):\n",
        "  if i < 100:\n",
        "    print(str(i) + '  ' + item)\n",
        "    print('\\n')"
      ],
      "metadata": {
        "id": "ZzMNRrIbUENT"
      },
      "execution_count": null,
      "outputs": []
    },
    {
      "cell_type": "markdown",
      "source": [
        "## Target 1 Оскорбления/Личная неприязнь. Слова - рабство, говно и подобное"
      ],
      "metadata": {
        "id": "IiIuIUKrBJ4g"
      }
    },
    {
      "cell_type": "code",
      "source": [
        ""
      ],
      "metadata": {
        "id": "l5hS6svJCS6E"
      },
      "execution_count": null,
      "outputs": []
    },
    {
      "cell_type": "code",
      "source": [
        "for i, item in enumerate(positive_by_target['1']):\n",
        "  if i < 100:\n",
        "    print(str(i) + '  ' + item)\n",
        "    print('\\n')"
      ],
      "metadata": {
        "id": "7WpI-NXfAEDu"
      },
      "execution_count": null,
      "outputs": []
    },
    {
      "cell_type": "code",
      "source": [
        "for i, item in enumerate(negative_by_target['1']):\n",
        "  if i < 100:\n",
        "    print(str(i) + '  ' + item)\n",
        "    print('\\n')"
      ],
      "metadata": {
        "id": "ExS8oWE_BS__"
      },
      "execution_count": null,
      "outputs": []
    },
    {
      "cell_type": "markdown",
      "source": [
        "## Target 3 Непонятный бред вместо слов/дублирование"
      ],
      "metadata": {
        "id": "PZYoq6rgCctb"
      }
    },
    {
      "cell_type": "code",
      "source": [
        "for i, item in enumerate(positive_by_target['3']):\n",
        "  if i < 100:\n",
        "    print(str(i) + '  ' + item)\n",
        "    print('\\n')"
      ],
      "metadata": {
        "id": "w9_X_uFjB0X_"
      },
      "execution_count": null,
      "outputs": []
    },
    {
      "cell_type": "code",
      "source": [
        "for i, item in enumerate(negative_by_target['3']):\n",
        "  if i < 100:\n",
        "    print(str(i) + '  ' + item)\n",
        "    print('\\n')"
      ],
      "metadata": {
        "id": "u-THkMf_CfhJ"
      },
      "execution_count": null,
      "outputs": []
    },
    {
      "cell_type": "markdown",
      "source": [
        "## Target 4 Политика-Национализм-Наркотики(?)"
      ],
      "metadata": {
        "id": "QnDBkZrTC-GK"
      }
    },
    {
      "cell_type": "code",
      "source": [
        "for i, item in enumerate(positive_by_target['4']):\n",
        "  if i < 100:\n",
        "    print(str(i) + '  ' + item)\n",
        "    print('\\n')"
      ],
      "metadata": {
        "id": "caByrUSaCg6y"
      },
      "execution_count": null,
      "outputs": []
    },
    {
      "cell_type": "code",
      "source": [
        "for i, item in enumerate(negative_by_target['4']):\n",
        "  if i < 100:\n",
        "    print(str(i) + '  ' + item)\n",
        "    print('\\n')"
      ],
      "metadata": {
        "id": "3lBO4L9WDCFX"
      },
      "execution_count": null,
      "outputs": []
    },
    {
      "cell_type": "markdown",
      "source": [
        "## Target 5 Похоже на раскрытие личностей/рабочих процессов компании"
      ],
      "metadata": {
        "id": "D7eZFPU8D5g9"
      }
    },
    {
      "cell_type": "code",
      "source": [
        "for i, item in enumerate(positive_by_target['5']):\n",
        "  if i < 100:\n",
        "    print(str(i) + '  ' + item)\n",
        "    print('\\n')"
      ],
      "metadata": {
        "id": "sjqkoqZ2DQi5"
      },
      "execution_count": null,
      "outputs": []
    },
    {
      "cell_type": "code",
      "source": [
        "for i, item in enumerate(negative_by_target['5']):\n",
        "  if i < 100:\n",
        "    print(str(i) + '  ' + item)\n",
        "    print('\\n')"
      ],
      "metadata": {
        "id": "QaO7ieQqD82m"
      },
      "execution_count": null,
      "outputs": []
    },
    {
      "cell_type": "markdown",
      "source": [
        "## Target 6 Похоже на данные о работодателе, которые повлекут уголовную ответственность. Например чёрная зарплата, несоблюдение ТК и подобное. С причиной номер 6 часто идёт 8."
      ],
      "metadata": {
        "id": "Ce0sy9g_GLB4"
      }
    },
    {
      "cell_type": "code",
      "source": [
        "for i, item in enumerate(positive_by_target['6']):\n",
        "  if i < 100:\n",
        "    print(str(i) + '  ' + item)\n",
        "    print('\\n')"
      ],
      "metadata": {
        "id": "enku7HEYD9-O"
      },
      "execution_count": null,
      "outputs": []
    },
    {
      "cell_type": "code",
      "source": [
        "df[df['positive']=='Работа в центре, близость к дому']"
      ],
      "metadata": {
        "id": "XmTqHCcnQU1a",
        "outputId": "04764652-9c3c-48f7-ef04-d149bf8ad38b",
        "colab": {
          "base_uri": "https://localhost:8080/",
          "height": 195
        }
      },
      "execution_count": null,
      "outputs": [
        {
          "output_type": "execute_result",
          "data": {
            "text/html": [
              "\n",
              "  <div id=\"df-d42ad938-6511-4204-be62-2432778b0b32\">\n",
              "    <div class=\"colab-df-container\">\n",
              "      <div>\n",
              "<style scoped>\n",
              "    .dataframe tbody tr th:only-of-type {\n",
              "        vertical-align: middle;\n",
              "    }\n",
              "\n",
              "    .dataframe tbody tr th {\n",
              "        vertical-align: top;\n",
              "    }\n",
              "\n",
              "    .dataframe thead th {\n",
              "        text-align: right;\n",
              "    }\n",
              "</style>\n",
              "<table border=\"1\" class=\"dataframe\">\n",
              "  <thead>\n",
              "    <tr style=\"text-align: right;\">\n",
              "      <th></th>\n",
              "      <th>review_id</th>\n",
              "      <th>city</th>\n",
              "      <th>position</th>\n",
              "      <th>positive</th>\n",
              "      <th>negative</th>\n",
              "      <th>salary_rating</th>\n",
              "      <th>team_rating</th>\n",
              "      <th>managment_rating</th>\n",
              "      <th>career_rating</th>\n",
              "      <th>workplace_rating</th>\n",
              "      <th>rest_recovery_rating</th>\n",
              "      <th>target</th>\n",
              "    </tr>\n",
              "  </thead>\n",
              "  <tbody>\n",
              "    <tr>\n",
              "      <th>4587</th>\n",
              "      <td>17538</td>\n",
              "      <td>Санкт-Петербург</td>\n",
              "      <td>Продавец-консультант</td>\n",
              "      <td>Работа в центре, близость к дому</td>\n",
              "      <td>Сделать низкий штраф за вмр</td>\n",
              "      <td>1</td>\n",
              "      <td>1</td>\n",
              "      <td>1</td>\n",
              "      <td>2</td>\n",
              "      <td>1</td>\n",
              "      <td>1</td>\n",
              "      <td>6,8</td>\n",
              "    </tr>\n",
              "  </tbody>\n",
              "</table>\n",
              "</div>\n",
              "      <button class=\"colab-df-convert\" onclick=\"convertToInteractive('df-d42ad938-6511-4204-be62-2432778b0b32')\"\n",
              "              title=\"Convert this dataframe to an interactive table.\"\n",
              "              style=\"display:none;\">\n",
              "        \n",
              "  <svg xmlns=\"http://www.w3.org/2000/svg\" height=\"24px\"viewBox=\"0 0 24 24\"\n",
              "       width=\"24px\">\n",
              "    <path d=\"M0 0h24v24H0V0z\" fill=\"none\"/>\n",
              "    <path d=\"M18.56 5.44l.94 2.06.94-2.06 2.06-.94-2.06-.94-.94-2.06-.94 2.06-2.06.94zm-11 1L8.5 8.5l.94-2.06 2.06-.94-2.06-.94L8.5 2.5l-.94 2.06-2.06.94zm10 10l.94 2.06.94-2.06 2.06-.94-2.06-.94-.94-2.06-.94 2.06-2.06.94z\"/><path d=\"M17.41 7.96l-1.37-1.37c-.4-.4-.92-.59-1.43-.59-.52 0-1.04.2-1.43.59L10.3 9.45l-7.72 7.72c-.78.78-.78 2.05 0 2.83L4 21.41c.39.39.9.59 1.41.59.51 0 1.02-.2 1.41-.59l7.78-7.78 2.81-2.81c.8-.78.8-2.07 0-2.86zM5.41 20L4 18.59l7.72-7.72 1.47 1.35L5.41 20z\"/>\n",
              "  </svg>\n",
              "      </button>\n",
              "      \n",
              "  <style>\n",
              "    .colab-df-container {\n",
              "      display:flex;\n",
              "      flex-wrap:wrap;\n",
              "      gap: 12px;\n",
              "    }\n",
              "\n",
              "    .colab-df-convert {\n",
              "      background-color: #E8F0FE;\n",
              "      border: none;\n",
              "      border-radius: 50%;\n",
              "      cursor: pointer;\n",
              "      display: none;\n",
              "      fill: #1967D2;\n",
              "      height: 32px;\n",
              "      padding: 0 0 0 0;\n",
              "      width: 32px;\n",
              "    }\n",
              "\n",
              "    .colab-df-convert:hover {\n",
              "      background-color: #E2EBFA;\n",
              "      box-shadow: 0px 1px 2px rgba(60, 64, 67, 0.3), 0px 1px 3px 1px rgba(60, 64, 67, 0.15);\n",
              "      fill: #174EA6;\n",
              "    }\n",
              "\n",
              "    [theme=dark] .colab-df-convert {\n",
              "      background-color: #3B4455;\n",
              "      fill: #D2E3FC;\n",
              "    }\n",
              "\n",
              "    [theme=dark] .colab-df-convert:hover {\n",
              "      background-color: #434B5C;\n",
              "      box-shadow: 0px 1px 3px 1px rgba(0, 0, 0, 0.15);\n",
              "      filter: drop-shadow(0px 1px 2px rgba(0, 0, 0, 0.3));\n",
              "      fill: #FFFFFF;\n",
              "    }\n",
              "  </style>\n",
              "\n",
              "      <script>\n",
              "        const buttonEl =\n",
              "          document.querySelector('#df-d42ad938-6511-4204-be62-2432778b0b32 button.colab-df-convert');\n",
              "        buttonEl.style.display =\n",
              "          google.colab.kernel.accessAllowed ? 'block' : 'none';\n",
              "\n",
              "        async function convertToInteractive(key) {\n",
              "          const element = document.querySelector('#df-d42ad938-6511-4204-be62-2432778b0b32');\n",
              "          const dataTable =\n",
              "            await google.colab.kernel.invokeFunction('convertToInteractive',\n",
              "                                                     [key], {});\n",
              "          if (!dataTable) return;\n",
              "\n",
              "          const docLinkHtml = 'Like what you see? Visit the ' +\n",
              "            '<a target=\"_blank\" href=https://colab.research.google.com/notebooks/data_table.ipynb>data table notebook</a>'\n",
              "            + ' to learn more about interactive tables.';\n",
              "          element.innerHTML = '';\n",
              "          dataTable['output_type'] = 'display_data';\n",
              "          await google.colab.output.renderOutput(dataTable, element);\n",
              "          const docLink = document.createElement('div');\n",
              "          docLink.innerHTML = docLinkHtml;\n",
              "          element.appendChild(docLink);\n",
              "        }\n",
              "      </script>\n",
              "    </div>\n",
              "  </div>\n",
              "  "
            ],
            "text/plain": [
              "      review_id             city  ... rest_recovery_rating target\n",
              "4587      17538  Санкт-Петербург  ...                    1    6,8\n",
              "\n",
              "[1 rows x 12 columns]"
            ]
          },
          "metadata": {},
          "execution_count": 90
        }
      ]
    },
    {
      "cell_type": "code",
      "source": [
        "for i, item in enumerate(negative_by_target['6']):\n",
        "  if i < 100:\n",
        "    print(str(i) + '  ' + item)\n",
        "    print('\\n')"
      ],
      "metadata": {
        "id": "9Yn4IRaAGNJZ"
      },
      "execution_count": null,
      "outputs": []
    },
    {
      "cell_type": "markdown",
      "source": [
        "## Target 7 Если человек не работал в этой компании, заявку отклоняют"
      ],
      "metadata": {
        "id": "sLQTcVjUjm7T"
      }
    },
    {
      "cell_type": "code",
      "source": [
        "for i, item in enumerate(positive_by_target['7']):\n",
        "  if i < 100:\n",
        "    print(str(i) + '  ' + item)\n",
        "    print('\\n')"
      ],
      "metadata": {
        "id": "SSY7RQDmjoVZ"
      },
      "execution_count": null,
      "outputs": []
    },
    {
      "cell_type": "code",
      "source": [
        "df[df['positive']=='Гибкий график. Хорошие условия труда.']"
      ],
      "metadata": {
        "id": "-FfImNQ6GO2w"
      },
      "execution_count": null,
      "outputs": []
    },
    {
      "cell_type": "code",
      "source": [
        "for i, item in enumerate(negative_by_target['7']):\n",
        "  if i < 100:\n",
        "    print(str(i) + '  ' + item)\n",
        "    print('\\n')"
      ],
      "metadata": {
        "id": "gFAZIAgmjr5d"
      },
      "execution_count": null,
      "outputs": []
    },
    {
      "cell_type": "markdown",
      "source": [
        "## Target 8"
      ],
      "metadata": {
        "id": "01H2YjkioNxZ"
      }
    },
    {
      "cell_type": "code",
      "source": [
        "for i, item in enumerate(positive_by_target['8']):\n",
        "  if i < 100:\n",
        "    print(str(i) + '  ' + item)\n",
        "    print('\\n')"
      ],
      "metadata": {
        "id": "DdGj8Ajnjx0I"
      },
      "execution_count": null,
      "outputs": []
    },
    {
      "cell_type": "code",
      "source": [
        "for i, item in enumerate(negative_by_target['8']):\n",
        "  if i < 100:\n",
        "    print(str(i) + '  ' + item)\n",
        "    print('\\n')"
      ],
      "metadata": {
        "id": "ZcyX_4DaoP3q"
      },
      "execution_count": null,
      "outputs": []
    },
    {
      "cell_type": "markdown",
      "source": [
        "# Распределение таргетов"
      ],
      "metadata": {
        "id": "upuLQWh1_J47"
      }
    },
    {
      "cell_type": "code",
      "source": [
        "target_var = {}\n",
        "for _,row in df.iterrows():\n",
        "  if row.target not in target_var:\n",
        "    target_var[row.target] = 0\n",
        "  target_var[row.target] += 1"
      ],
      "metadata": {
        "id": "0Rjdryw0oZep"
      },
      "execution_count": null,
      "outputs": []
    },
    {
      "cell_type": "code",
      "source": [
        "target_var"
      ],
      "metadata": {
        "id": "aDZmFvTvolK8",
        "outputId": "59246bb8-64f2-49cb-e197-ee2ebd208b50",
        "colab": {
          "base_uri": "https://localhost:8080/"
        }
      },
      "execution_count": null,
      "outputs": [
        {
          "output_type": "execute_result",
          "data": {
            "text/plain": [
              "{'0': 21003,\n",
              " '1': 1269,\n",
              " '1,2,6': 1,\n",
              " '1,3': 9,\n",
              " '1,3,5': 2,\n",
              " '1,3,6': 1,\n",
              " '1,3,8': 3,\n",
              " '1,4': 24,\n",
              " '1,4,6': 3,\n",
              " '1,4,8': 4,\n",
              " '1,5': 78,\n",
              " '1,5,6': 7,\n",
              " '1,5,6,8': 1,\n",
              " '1,5,8': 33,\n",
              " '1,6': 141,\n",
              " '1,6,8': 48,\n",
              " '1,7': 15,\n",
              " '1,7,8': 2,\n",
              " '1,8': 1476,\n",
              " '2': 12,\n",
              " '3': 905,\n",
              " '3,5': 1,\n",
              " '3,5,7': 1,\n",
              " '3,5,8': 1,\n",
              " '3,6': 1,\n",
              " '3,6,8': 1,\n",
              " '3,7': 5,\n",
              " '3,8': 209,\n",
              " '4': 38,\n",
              " '4,6': 5,\n",
              " '4,6,8': 1,\n",
              " '4,8': 36,\n",
              " '5': 102,\n",
              " '5,6': 9,\n",
              " '5,6,8': 6,\n",
              " '5,7': 13,\n",
              " '5,7,8': 1,\n",
              " '5,8': 121,\n",
              " '6': 368,\n",
              " '6,7': 3,\n",
              " '6,8': 473,\n",
              " '7': 326,\n",
              " '7,8': 25,\n",
              " '8': 24093}"
            ]
          },
          "metadata": {},
          "execution_count": 99
        }
      ]
    }
  ],
  "metadata": {
    "colab": {
      "collapsed_sections": [],
      "name": "Добро_пожаловать_в_Colaboratory! (4).ipynb",
      "provenance": []
    },
    "kernelspec": {
      "display_name": "Python 3",
      "name": "python3"
    }
  },
  "nbformat": 4,
  "nbformat_minor": 0
}